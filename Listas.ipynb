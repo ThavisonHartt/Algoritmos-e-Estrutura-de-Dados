{
 "cells": [
  {
   "cell_type": "code",
   "execution_count": 24,
   "id": "abbc73bb",
   "metadata": {},
   "outputs": [
    {
     "name": "stdout",
     "output_type": "stream",
     "text": [
      "Frutas: ['Abacaxi', 'Banana', 'Maca', 'Pera', 'Goiaba', 'Pessego']\n",
      "Preço: [2.0, 1.0, 2.0, 3.0, 5.0, 2.0]\n",
      "Pera 3.0\n"
     ]
    }
   ],
   "source": [
    "#Tipos de armazenamento de dados. Listas.\n",
    "#Os itens são indexados, permite valores duplicados, são mutáveis e são ordenados.\n",
    "\n",
    "Frutas = [\"Abacaxi\",\"Banana\",\"Maca\",\"Pera\",\"Goiaba\",\"Pessego\"]\n",
    "Preco_Frutas = [2.00, 1.00, 2.00, 3.00, 5.00, 2.00]\n",
    "\n",
    "print(\"Frutas:\", Frutas)\n",
    "print(\"Preço:\", Preco_Frutas)\n",
    "print(Frutas[3], Preco_Frutas[3])"
   ]
  },
  {
   "cell_type": "code",
   "execution_count": 25,
   "id": "1ac9a8f8",
   "metadata": {},
   "outputs": [
    {
     "name": "stdout",
     "output_type": "stream",
     "text": [
      "6\n"
     ]
    }
   ],
   "source": [
    "#Utilizar a função len() para retornar o numeros de dados existentes na lista.\n",
    "print(len(Frutas))"
   ]
  },
  {
   "cell_type": "code",
   "execution_count": 19,
   "id": "4adbb9c9",
   "metadata": {},
   "outputs": [
    {
     "name": "stdout",
     "output_type": "stream",
     "text": [
      "['Abacaxi', 'Banana', 'Maca', 'Pera', 'Goiaba', 'Pessego', 'Morango']\n",
      "[2.0, 1.0, 2.0, 3.0, 5.0, 2.0, 4.0]\n"
     ]
    }
   ],
   "source": [
    "#Utilizar a função append() para adicionar itens na lista.\n",
    "Frutas.append(\"Morango\")\n",
    "Preco_Frutas.append(4.00)\n",
    "print(Frutas)\n",
    "print(Preco_Frutas)"
   ]
  },
  {
   "cell_type": "code",
   "execution_count": 20,
   "id": "e952c136",
   "metadata": {},
   "outputs": [
    {
     "name": "stdout",
     "output_type": "stream",
     "text": [
      "['Abacaxi', 'Banana', 'Maca', 'Pera', 'Goiaba', 'Pessego', 'Morango', 2.0, 1.0, 2.0, 3.0, 5.0, 2.0, 4.0]\n"
     ]
    }
   ],
   "source": [
    "#Utilizar a função extend para unir listas diferentes.\n",
    "Frutas.extend(Preco_Frutas)\n",
    "print(Frutas)"
   ]
  },
  {
   "cell_type": "code",
   "execution_count": 22,
   "id": "b583b8aa",
   "metadata": {},
   "outputs": [
    {
     "name": "stdout",
     "output_type": "stream",
     "text": [
      "['Pera', 2, 2.0, 'Nome', 'Nome']\n"
     ]
    }
   ],
   "source": [
    "DiversosDados = [\"Pera\", 2, 2.00, \"Nome\", \"Nome\"]\n",
    "print(DiversosDados)"
   ]
  }
 ],
 "metadata": {
  "kernelspec": {
   "display_name": "Python 3 (ipykernel)",
   "language": "python",
   "name": "python3"
  },
  "language_info": {
   "codemirror_mode": {
    "name": "ipython",
    "version": 3
   },
   "file_extension": ".py",
   "mimetype": "text/x-python",
   "name": "python",
   "nbconvert_exporter": "python",
   "pygments_lexer": "ipython3",
   "version": "3.9.7"
  }
 },
 "nbformat": 4,
 "nbformat_minor": 5
}
