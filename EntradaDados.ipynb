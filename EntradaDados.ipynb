{
 "cells": [
  {
   "cell_type": "code",
   "execution_count": 6,
   "id": "669b2554",
   "metadata": {},
   "outputs": [
    {
     "name": "stdout",
     "output_type": "stream",
     "text": [
      "Digite qualquer coisa.Eu estou aprendendo Python.\n"
     ]
    },
    {
     "data": {
      "text/plain": [
       "'Eu estou aprendendo Python.'"
      ]
     },
     "execution_count": 6,
     "metadata": {},
     "output_type": "execute_result"
    }
   ],
   "source": [
    "#Entrada de dados.\n",
    "input(\"Digite qualquer coisa.\")"
   ]
  },
  {
   "cell_type": "code",
   "execution_count": 10,
   "id": "d29ac0ba",
   "metadata": {},
   "outputs": [
    {
     "name": "stdout",
     "output_type": "stream",
     "text": [
      "Digite o primeiro número:98\n",
      "Digite o segundo número:43\n",
      "Soma: 141.0 Subtração: 55.0 Divisão: 2.2790697674418605 Multiplicação: 4214.0\n"
     ]
    }
   ],
   "source": [
    "#Entrada de dados.\n",
    "Numero1 = input(\"Digite o primeiro número:\")\n",
    "Numero2 = input(\"Digite o segundo número:\")\n",
    "#O input recebe uma string, então primeiro terá que transformar para um número real \n",
    "soma = float(Numero1) + float(Numero2)\n",
    "subtracao = float(Numero1) - float(Numero2)\n",
    "divisao = float(Numero1) / float(Numero2)\n",
    "multiplicacao = float(Numero1) * float(Numero2)\n",
    "\n",
    "print(\"Soma:\",soma, \"Subtração:\", subtracao, \"Divisão:\", divisao, \"Multiplicação:\", multiplicacao)"
   ]
  }
 ],
 "metadata": {
  "kernelspec": {
   "display_name": "Python 3 (ipykernel)",
   "language": "python",
   "name": "python3"
  },
  "language_info": {
   "codemirror_mode": {
    "name": "ipython",
    "version": 3
   },
   "file_extension": ".py",
   "mimetype": "text/x-python",
   "name": "python",
   "nbconvert_exporter": "python",
   "pygments_lexer": "ipython3",
   "version": "3.9.7"
  }
 },
 "nbformat": 4,
 "nbformat_minor": 5
}
