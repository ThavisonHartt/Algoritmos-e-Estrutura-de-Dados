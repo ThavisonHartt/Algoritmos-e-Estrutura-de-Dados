{
 "cells": [
  {
   "cell_type": "code",
   "execution_count": 7,
   "id": "02158ac8",
   "metadata": {},
   "outputs": [
    {
     "name": "stdout",
     "output_type": "stream",
     "text": [
      "10 18.0 700\n"
     ]
    }
   ],
   "source": [
    "#Conversão de valores.\n",
    "Numero = 10.0\n",
    "Idade = 18\n",
    "Avenida = 700\n",
    "\n",
    "print(int(Numero), float(Idade), str(Avenida))"
   ]
  },
  {
   "cell_type": "code",
   "execution_count": 11,
   "id": "6670bd25",
   "metadata": {},
   "outputs": [
    {
     "name": "stdout",
     "output_type": "stream",
     "text": [
      "1000 1000 1000.0\n",
      "<class 'str'> <class 'int'> <class 'float'>\n"
     ]
    }
   ],
   "source": [
    "#Conversão de valores.\n",
    "print(\"1000\", int(\"1000\"), float(1000))\n",
    "print(type(\"1000\"), type(int(\"1000\")), type(float(\"1000\")))\n"
   ]
  },
  {
   "cell_type": "code",
   "execution_count": 16,
   "id": "5b609b16",
   "metadata": {},
   "outputs": [
    {
     "name": "stdout",
     "output_type": "stream",
     "text": [
      "3.14 3\n"
     ]
    }
   ],
   "source": [
    "#Conversão de valores. Pega a parte inteira apenas.\n",
    "Pi = 3.14\n",
    "Inteira = int(Pi)\n",
    "\n",
    "print(Pi, Inteira)"
   ]
  }
 ],
 "metadata": {
  "kernelspec": {
   "display_name": "Python 3 (ipykernel)",
   "language": "python",
   "name": "python3"
  },
  "language_info": {
   "codemirror_mode": {
    "name": "ipython",
    "version": 3
   },
   "file_extension": ".py",
   "mimetype": "text/x-python",
   "name": "python",
   "nbconvert_exporter": "python",
   "pygments_lexer": "ipython3",
   "version": "3.9.7"
  }
 },
 "nbformat": 4,
 "nbformat_minor": 5
}
