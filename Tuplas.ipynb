{
 "cells": [
  {
   "cell_type": "code",
   "execution_count": null,
   "id": "83d1c8e1",
   "metadata": {},
   "outputs": [],
   "source": [
    "# Tipos de armazenamento de dados. Tuplas.\n",
    "#Os itens são indexados, permite valores duplicados, são imutáveis e são ordenados.\n",
    "#Ultiliza parênteses () para definir uma Tupla.\n",
    "\n",
    "Doces = (\"Bolo\", \"Torta\", \"Cuscuz\", \"Mariola\", \"Suspiro\")\n",
    "print(Doces)\n",
    "print(Doces[2:4])"
   ]
  },
  {
   "cell_type": "code",
   "execution_count": null,
   "id": "b0b4cbab",
   "metadata": {},
   "outputs": [],
   "source": [
    "#Dados duplicados\n",
    "Idades = (1, 6, 4, 1, 5, 7, 4, 1, 7, 5, 4, 8, 5, 20, 25, 68, 66, 44, 33, 33, 21)\n",
    "print(Idades)\n",
    "#Função que conta o número de vezes que aparece o número\n",
    "Idades.count(5)\n"
   ]
  },
  {
   "cell_type": "code",
   "execution_count": null,
   "id": "b4bd406b",
   "metadata": {},
   "outputs": [],
   "source": [
    "#Junta duas tuplas.\n",
    "Dados = Doces + Idades\n",
    "print(Dados)"
   ]
  }
 ],
 "metadata": {
  "kernelspec": {
   "display_name": "Python 3 (ipykernel)",
   "language": "python",
   "name": "python3"
  },
  "language_info": {
   "codemirror_mode": {
    "name": "ipython",
    "version": 3
   },
   "file_extension": ".py",
   "mimetype": "text/x-python",
   "name": "python",
   "nbconvert_exporter": "python",
   "pygments_lexer": "ipython3",
   "version": "3.9.7"
  }
 },
 "nbformat": 4,
 "nbformat_minor": 5
}
