{
 "cells": [
  {
   "cell_type": "code",
   "execution_count": null,
   "id": "9d6dfc23",
   "metadata": {},
   "outputs": [],
   "source": [
    "#Estutura de repetição, for.\n",
    "for i in range(10):\n",
    "    print(\"Olá mundo!\")"
   ]
  },
  {
   "cell_type": "code",
   "execution_count": null,
   "id": "1c9c5d33",
   "metadata": {},
   "outputs": [],
   "source": [
    "Lista = [\"Cachorro\",\"Gato\",\"Peixe\",\"Rato\",\"Passaro\"]\n",
    "for i in Lista:\n",
    "    print(i)"
   ]
  },
  {
   "cell_type": "code",
   "execution_count": null,
   "id": "9bcc507b",
   "metadata": {},
   "outputs": [],
   "source": [
    "for i in \"Algoritmos\":\n",
    "    print(i)"
   ]
  },
  {
   "cell_type": "code",
   "execution_count": null,
   "id": "719a04da",
   "metadata": {},
   "outputs": [],
   "source": [
    "Numeros = [0, 1, 2, 3, 4, 5, 6, 7, 8, 9]\n",
    "\n",
    "for i in Numeros:\n",
    "    print(i)\n",
    "    if i == 6:\n",
    "      break\n",
    "\n",
    "    "
   ]
  }
 ],
 "metadata": {
  "kernelspec": {
   "display_name": "Python 3 (ipykernel)",
   "language": "python",
   "name": "python3"
  },
  "language_info": {
   "codemirror_mode": {
    "name": "ipython",
    "version": 3
   },
   "file_extension": ".py",
   "mimetype": "text/x-python",
   "name": "python",
   "nbconvert_exporter": "python",
   "pygments_lexer": "ipython3",
   "version": "3.9.7"
  }
 },
 "nbformat": 4,
 "nbformat_minor": 5
}
