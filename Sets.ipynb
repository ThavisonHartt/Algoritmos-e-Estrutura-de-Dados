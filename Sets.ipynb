{
 "cells": [
  {
   "cell_type": "code",
   "execution_count": null,
   "id": "ac18d77a",
   "metadata": {},
   "outputs": [],
   "source": [
    "# Tipos de armazenamento de dados. Sets.\n",
    "#Os itens não são ordenados, são imutáveis, não permite valores duplicados e não é indexado.\n",
    "#Ultiliza chaves {} para definir um Set.\n",
    "\n",
    "Estados_1 = {\"Espirito Santo\", \"Minas Gerais\", \"Rio de Janeiro\", \"São Paulo\"}\n",
    "Estados_2 = {\"Paraná\", \"Bahia\"}\n",
    "print(Estados_1)"
   ]
  },
  {
   "cell_type": "code",
   "execution_count": null,
   "id": "c8ba6d52",
   "metadata": {},
   "outputs": [],
   "source": [
    "#Verificando um dado usando a lógica booleana.\n",
    "print(\"Amazonas\" in Estados_2)\n",
    "print(\"São Paulo\" in Estados_1)"
   ]
  },
  {
   "cell_type": "code",
   "execution_count": null,
   "id": "416ae6f5",
   "metadata": {},
   "outputs": [],
   "source": [
    "#Dados duplicados não é aceito.\n",
    "compras = {\"Banana\", \"Banana\", \"Arroz\"}\n",
    "decimais = {0, 1, 2, 3, 4, 4}\n",
    "print(compras)\n",
    "print(decimais)"
   ]
  },
  {
   "cell_type": "code",
   "execution_count": null,
   "id": "f9691453",
   "metadata": {},
   "outputs": [],
   "source": [
    "#A função add() adiciona um dado ao set.\n",
    "Estados_2.add(\"Santa Catarina\")\n",
    "print(Estados_2)"
   ]
  },
  {
   "cell_type": "code",
   "execution_count": null,
   "id": "e2bb5407",
   "metadata": {},
   "outputs": [],
   "source": [
    "#A função update juntará dois sets.\n",
    "Estados_1.update(Estados_2) \n",
    "print(Estados_1)"
   ]
  }
 ],
 "metadata": {
  "kernelspec": {
   "display_name": "Python 3 (ipykernel)",
   "language": "python",
   "name": "python3"
  },
  "language_info": {
   "codemirror_mode": {
    "name": "ipython",
    "version": 3
   },
   "file_extension": ".py",
   "mimetype": "text/x-python",
   "name": "python",
   "nbconvert_exporter": "python",
   "pygments_lexer": "ipython3",
   "version": "3.9.7"
  }
 },
 "nbformat": 4,
 "nbformat_minor": 5
}
