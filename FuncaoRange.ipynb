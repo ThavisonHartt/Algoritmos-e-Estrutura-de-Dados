{
 "cells": [
  {
   "cell_type": "code",
   "execution_count": null,
   "id": "628e3835",
   "metadata": {},
   "outputs": [],
   "source": [
    "#Função range.\n",
    "Contador = range(0,10)\n",
    "for Contador in Contador:\n",
    "    print(Contador)"
   ]
  },
  {
   "cell_type": "code",
   "execution_count": null,
   "id": "dea0c971",
   "metadata": {},
   "outputs": [],
   "source": [
    "#Ultizando o terceiro argumento de salto.\n",
    "Contador = range(0,101,10)\n",
    "for Contador in Contador:\n",
    "    print(Contador)"
   ]
  }
 ],
 "metadata": {
  "kernelspec": {
   "display_name": "Python 3 (ipykernel)",
   "language": "python",
   "name": "python3"
  },
  "language_info": {
   "codemirror_mode": {
    "name": "ipython",
    "version": 3
   },
   "file_extension": ".py",
   "mimetype": "text/x-python",
   "name": "python",
   "nbconvert_exporter": "python",
   "pygments_lexer": "ipython3",
   "version": "3.9.7"
  }
 },
 "nbformat": 4,
 "nbformat_minor": 5
}
