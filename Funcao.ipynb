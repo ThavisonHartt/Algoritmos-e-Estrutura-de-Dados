{
 "cells": [
  {
   "cell_type": "code",
   "execution_count": null,
   "id": "55248e90",
   "metadata": {},
   "outputs": [],
   "source": [
    "def soma(num1,num2):\n",
    "    return num1 + num2\n",
    "soma(2,2)"
   ]
  },
  {
   "cell_type": "code",
   "execution_count": null,
   "id": "ab58d747",
   "metadata": {},
   "outputs": [],
   "source": [
    "#Programa que calcula o imc de uma pessoa.\n",
    "def CalculaImc(peso, altura):\n",
    "    #Código comentado\n",
    "    #peso = float(input(\"Digite o seu peso:\"))\n",
    "    #altura = float(input(\"Digite a sua altura em metros:\"))\n",
    "    \n",
    "    imc = peso/(altura ** 2)\n",
    "\n",
    "    #Estrututa de condição.\n",
    "    if imc < 18.5:\n",
    "        print(\"Peso baixo.\")\n",
    "    elif imc > 18.5 and imc <= 24.9:\n",
    "        print(\"Peso normal.\")\n",
    "    elif imc > 24.9 and imc <= 29.9:\n",
    "        print(\"Sobrepeso.\")\n",
    "    elif imc > 29.9 and imc <= 34.9:\n",
    "        print(\"Obesidade grau 1.\")\n",
    "    elif imc > 29.9 and imc <= 39.9:\n",
    "        print(\"Obesidade severa grau 2.\")\n",
    "    elif imc > 39.9:\n",
    "        print(\"Obesidade mórbida.\")\n",
    "    return\n",
    "\n",
    "\n",
    "#Entrada de parâmetros, peso e altura em metros\n",
    "CalculaImc(100, 1.90)"
   ]
  }
 ],
 "metadata": {
  "kernelspec": {
   "display_name": "Python 3 (ipykernel)",
   "language": "python",
   "name": "python3"
  },
  "language_info": {
   "codemirror_mode": {
    "name": "ipython",
    "version": 3
   },
   "file_extension": ".py",
   "mimetype": "text/x-python",
   "name": "python",
   "nbconvert_exporter": "python",
   "pygments_lexer": "ipython3",
   "version": "3.9.7"
  }
 },
 "nbformat": 4,
 "nbformat_minor": 5
}
