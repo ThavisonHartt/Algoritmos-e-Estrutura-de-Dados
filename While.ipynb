{
 "cells": [
  {
   "cell_type": "markdown",
   "id": "cf0a765e",
   "metadata": {},
   "source": [
    "#Loops em Python, While.\n",
    "numero = 1\n",
    "while numero < 10:\n",
    "    print(numero)\n",
    "    numero = numero + 1"
   ]
  },
  {
   "cell_type": "markdown",
   "id": "c85cbdc3",
   "metadata": {},
   "source": [
    "numero = int(input(\"Digite um número:\"))\n",
    "\n",
    "while numero > 1 and numero < 100:\n",
    "    numero = int(input(\"Digite um número:\"))\n",
    "    if numero == 30:\n",
    "        break\n",
    "    "
   ]
  }
 ],
 "metadata": {
  "kernelspec": {
   "display_name": "Python 3 (ipykernel)",
   "language": "python",
   "name": "python3"
  },
  "language_info": {
   "codemirror_mode": {
    "name": "ipython",
    "version": 3
   },
   "file_extension": ".py",
   "mimetype": "text/x-python",
   "name": "python",
   "nbconvert_exporter": "python",
   "pygments_lexer": "ipython3",
   "version": "3.9.7"
  }
 },
 "nbformat": 4,
 "nbformat_minor": 5
}
