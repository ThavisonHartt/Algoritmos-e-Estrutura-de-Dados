{
 "cells": [
  {
   "cell_type": "code",
   "execution_count": 25,
   "id": "f4bd480d",
   "metadata": {},
   "outputs": [
    {
     "name": "stdout",
     "output_type": "stream",
     "text": [
      "60 16.3 Thavison Moura\n"
     ]
    }
   ],
   "source": [
    "#Variávesis.\n",
    "Inteiro = 60\n",
    "Real = 16.30\n",
    "Nome = \"Thavison Moura\"\n",
    "\n",
    "print(Inteiro, Real, Nome)"
   ]
  },
  {
   "cell_type": "code",
   "execution_count": 23,
   "id": "07373ecb",
   "metadata": {},
   "outputs": [
    {
     "name": "stdout",
     "output_type": "stream",
     "text": [
      "<class 'tuple'> <class 'float'> <class 'str'>\n"
     ]
    }
   ],
   "source": [
    "#Tipos de dados.\n",
    "print(type(Inteiro), type(Real), type(Nome))"
   ]
  },
  {
   "cell_type": "code",
   "execution_count": 2,
   "id": "97901dd0",
   "metadata": {},
   "outputs": [
    {
     "name": "stdout",
     "output_type": "stream",
     "text": [
      "Thavison Moura 18\n"
     ]
    }
   ],
   "source": [
    "#Tipos de dados. Trabalhando com string.\n",
    "Nome = '''Thavison'''\n",
    "Sobrenome = 'Moura'\n",
    "idade = \"18\"\n",
    "\n",
    "print(Nome, Sobrenome, idade)\n"
   ]
  },
  {
   "cell_type": "code",
   "execution_count": 2,
   "id": "81168e0c",
   "metadata": {},
   "outputs": [
    {
     "name": "stdout",
     "output_type": "stream",
     "text": [
      "5.0\n",
      "5.0\n",
      "5\n",
      "0.2\n",
      "0\n",
      "5.5\n",
      "5\n"
     ]
    }
   ],
   "source": [
    "#Tipos de dados. Trabalhando com números.\n",
    "print(10.0 - 5)\n",
    "print(10 - 5.0)\n",
    "print(10 - 5)\n",
    "print((10 * 2)/100)\n",
    "print(10 % 2)\n",
    "print(11 / 2)\n",
    "print(11 // 2)"
   ]
  },
  {
   "cell_type": "code",
   "execution_count": 4,
   "id": "775f49f9",
   "metadata": {},
   "outputs": [
    {
     "name": "stdout",
     "output_type": "stream",
     "text": [
      "False\n"
     ]
    }
   ],
   "source": [
    "#Tipos de dados. Trabalhando com booleano.\n",
    "Idade = 14\n",
    "\n",
    "print(Idade > 18)\n"
   ]
  },
  {
   "cell_type": "code",
   "execution_count": 5,
   "id": "a828adff",
   "metadata": {},
   "outputs": [
    {
     "name": "stdout",
     "output_type": "stream",
     "text": [
      "True\n"
     ]
    }
   ],
   "source": [
    "#Tipos de dados. Trabalhando com booleano.\n",
    "Idade = 14\n",
    "\n",
    "print(Idade < 18)"
   ]
  }
 ],
 "metadata": {
  "kernelspec": {
   "display_name": "Python 3 (ipykernel)",
   "language": "python",
   "name": "python3"
  },
  "language_info": {
   "codemirror_mode": {
    "name": "ipython",
    "version": 3
   },
   "file_extension": ".py",
   "mimetype": "text/x-python",
   "name": "python",
   "nbconvert_exporter": "python",
   "pygments_lexer": "ipython3",
   "version": "3.9.7"
  }
 },
 "nbformat": 4,
 "nbformat_minor": 5
}
