{
 "cells": [
  {
   "cell_type": "code",
   "execution_count": null,
   "id": "fe602811",
   "metadata": {},
   "outputs": [],
   "source": [
    "#Tipos de armazenamento de dados. Dicionário.\n",
    "#Os dicionários, não permitem valores duplicados, são ordenados, pares correspondentes.\n",
    "#Ultiliza colchetes {} para definir uma dicionário.\n",
    "\n",
    "Biblioteca = {1:\"Programação\", 2:\"Medicina\", 3:\"Engenharia\"}\n",
    "print(Biblioteca)"
   ]
  },
  {
   "cell_type": "markdown",
   "id": "b9c43d11",
   "metadata": {},
   "source": [
    "#Acessando uma posição\n",
    "Biblioteca.get(1)"
   ]
  },
  {
   "cell_type": "markdown",
   "id": "c256f854",
   "metadata": {},
   "source": [
    "#Inserindo novos valores.\n",
    "Biblioteca[4] = \"Humanas\""
   ]
  },
  {
   "cell_type": "code",
   "execution_count": null,
   "id": "d5f302f4",
   "metadata": {},
   "outputs": [],
   "source": [
    "print(Biblioteca)"
   ]
  }
 ],
 "metadata": {
  "kernelspec": {
   "display_name": "Python 3 (ipykernel)",
   "language": "python",
   "name": "python3"
  },
  "language_info": {
   "codemirror_mode": {
    "name": "ipython",
    "version": 3
   },
   "file_extension": ".py",
   "mimetype": "text/x-python",
   "name": "python",
   "nbconvert_exporter": "python",
   "pygments_lexer": "ipython3",
   "version": "3.9.7"
  }
 },
 "nbformat": 4,
 "nbformat_minor": 5
}
