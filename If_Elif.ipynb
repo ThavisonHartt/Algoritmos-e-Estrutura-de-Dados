{
 "cells": [
  {
   "cell_type": "code",
   "execution_count": null,
   "id": "bdc0292a",
   "metadata": {},
   "outputs": [],
   "source": [
    "#Estrutura de condição, if e elif.\n",
    "num = int(input(\"Digite um número:\"))"
   ]
  },
  {
   "cell_type": "code",
   "execution_count": null,
   "id": "967a1298",
   "metadata": {},
   "outputs": [],
   "source": [
    "if num > 10:\n",
    "    print(\"O número digitado é maior que 10.\")\n",
    "else:\n",
    "    print(\"O número digitado é menor 10.\")"
   ]
  },
  {
   "cell_type": "code",
   "execution_count": null,
   "id": "2d90d0a0",
   "metadata": {},
   "outputs": [],
   "source": [
    "#Programa que calcula o imc de uma pesso.\n",
    "Peso = float(input(\"Digite o seu peso:\"))\n",
    "Altura = float(input(\"Digite a sua altura em metros:\"))\n",
    "Imc = Peso/(Altura * Altura)\n",
    "\n",
    "print(Imc)"
   ]
  },
  {
   "cell_type": "code",
   "execution_count": null,
   "id": "a1fec177",
   "metadata": {},
   "outputs": [],
   "source": [
    "#Estrututa de condição.\n",
    "if Imc < 18.5:\n",
    "    print(\"Peso baixo.\")\n",
    "elif Imc > 18.5 and Imc <= 24.9:\n",
    "    print(\"Peso normal.\")\n",
    "elif Imc > 24.9 and Imc <= 29.9:\n",
    "    print(\"Sobrepeso.\")\n",
    "elif Imc > 29.9 and Imc <= 34.9:\n",
    "    print(\"Obesidade grau 1.\")\n",
    "elif Imc > 29.9 and Imc <= 39.9:\n",
    "    print(\"Obesidade severa grau 2.\")\n",
    "elif Imc > 39.9:\n",
    "    print(\"Obesidade mórbida.\")\n"
   ]
  }
 ],
 "metadata": {
  "kernelspec": {
   "display_name": "Python 3 (ipykernel)",
   "language": "python",
   "name": "python3"
  },
  "language_info": {
   "codemirror_mode": {
    "name": "ipython",
    "version": 3
   },
   "file_extension": ".py",
   "mimetype": "text/x-python",
   "name": "python",
   "nbconvert_exporter": "python",
   "pygments_lexer": "ipython3",
   "version": "3.9.7"
  }
 },
 "nbformat": 4,
 "nbformat_minor": 5
}
