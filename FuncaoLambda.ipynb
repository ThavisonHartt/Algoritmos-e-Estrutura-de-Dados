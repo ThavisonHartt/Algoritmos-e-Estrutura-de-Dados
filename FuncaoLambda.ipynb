{
 "cells": [
  {
   "cell_type": "code",
   "execution_count": 7,
   "id": "91c69a2c",
   "metadata": {},
   "outputs": [
    {
     "data": {
      "text/plain": [
       "4"
      ]
     },
     "execution_count": 7,
     "metadata": {},
     "output_type": "execute_result"
    }
   ],
   "source": [
    "#Função lambda\n",
    "Soma = lambda x, y: x + y\n",
    "    \n",
    "\n",
    "Soma(2,2)"
   ]
  },
  {
   "cell_type": "code",
   "execution_count": 13,
   "id": "745b4bed",
   "metadata": {},
   "outputs": [
    {
     "data": {
      "text/plain": [
       "27.70083102493075"
      ]
     },
     "execution_count": 13,
     "metadata": {},
     "output_type": "execute_result"
    }
   ],
   "source": [
    "IMC = lambda peso, altura: peso/(altura ** 2)\n",
    "\n",
    "#Entrada de parâmetros, peso e altura em metros\n",
    "IMC(100, 1.90)"
   ]
  }
 ],
 "metadata": {
  "kernelspec": {
   "display_name": "Python 3 (ipykernel)",
   "language": "python",
   "name": "python3"
  },
  "language_info": {
   "codemirror_mode": {
    "name": "ipython",
    "version": 3
   },
   "file_extension": ".py",
   "mimetype": "text/x-python",
   "name": "python",
   "nbconvert_exporter": "python",
   "pygments_lexer": "ipython3",
   "version": "3.9.7"
  }
 },
 "nbformat": 4,
 "nbformat_minor": 5
}
